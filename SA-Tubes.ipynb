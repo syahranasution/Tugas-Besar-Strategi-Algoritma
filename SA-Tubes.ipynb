{
  "nbformat": 4,
  "nbformat_minor": 0,
  "metadata": {
    "colab": {
      "provenance": []
    },
    "kernelspec": {
      "name": "python3",
      "display_name": "Python 3"
    },
    "language_info": {
      "name": "python"
    }
  },
  "cells": [
    {
      "cell_type": "markdown",
      "source": [
        "#Anggota Kelompok\n",
        "- Syahra Rizky Ramadhani Nasution (1301220066)\n",
        "- Cut Nabilah Nuur Azizah (1301223019)\n",
        "- Karin Hagaina Ginting (1301210536)"
      ],
      "metadata": {
        "id": "hzqJbQRpXIH3"
      }
    },
    {
      "cell_type": "markdown",
      "source": [
        "# Rat in a Maze Puzzle\n",
        "\n",
        "Matriks berukuran n*n\n",
        "- nilai 1 menandakan jalan\n",
        "- nilai 0 menandakan tembok\n",
        "\n",
        "Cell Awal = (0, 0)\n",
        "\n",
        "Cell Tujuan = (n-1, n-1)"
      ],
      "metadata": {
        "id": "95OqaixlXHcH"
      }
    },
    {
      "cell_type": "markdown",
      "source": [
        "#Metode Backtracking"
      ],
      "metadata": {
        "id": "aEuE5TpCYaj4"
      }
    },
    {
      "cell_type": "code",
      "execution_count": 1,
      "metadata": {
        "id": "l5KMQuDbW60U"
      },
      "outputs": [],
      "source": [
        "def is_promising(maze, n, x, y, res):\n",
        "  if x >= 0 and y >= 0 and x < n and y < n and maze[x][y] == 1 and res[x][y] == 0:\n",
        "    return True\n",
        "  return False\n",
        "\n",
        "def solve_maze_bt_recursive(maze, n, x, y, res):\n",
        "  dx = [-1, 1, 0, 0]\n",
        "  dy = [0, 0, -1, 1]\n",
        "\n",
        "  if x == n-1 and y == n-1: # sudah sampai cell tujuan\n",
        "    return True\n",
        "\n",
        "  for i in range(4): # coba untuk semua arah\n",
        "    x_new = x + dx[i]\n",
        "    y_new = y + dy[i]\n",
        "    if is_promising(maze, n, x_new, y_new, res):\n",
        "      res[x_new][y_new] = 1\n",
        "      if solve_maze_bt_recursive(maze, n, x_new, y_new, res):\n",
        "        return True\n",
        "      res[x_new][y_new] = 0\n",
        "\n",
        "  return False\n",
        "\n",
        "def solve_maze_bt(maze, n):\n",
        "  res = [[0 for _ in range(n)] for _ in range(n)] # inisialisasi matriks hasil\n",
        "  res[0][0] = 1 # cell awal\n",
        "\n",
        "  if solve_maze_bt_recursive(maze, n, 0, 0, res):\n",
        "    return res\n",
        "  else:\n",
        "    return None"
      ]
    },
    {
      "cell_type": "markdown",
      "source": [
        "#Metode Branch and Bound"
      ],
      "metadata": {
        "id": "YwOUfOhfZ5IF"
      }
    },
    {
      "cell_type": "code",
      "source": [
        "def solve_maze_bnb(maze, n):\n",
        "  queue = []\n",
        "  vis = [[0 for _ in range(n)] for _ in range(n)]\n",
        "  path = [[None for _ in range(n)] for _ in range(n)]\n",
        "\n",
        "  x = 0\n",
        "  y = 0\n",
        "  vis[0][0] = 1\n",
        "  while not (x == n - 1 and y == n - 1):\n",
        "    vis[x][y] = 1\n",
        "    if x > 0 and maze[x - 1][y] == 1 and vis[x - 1][y] == 0:\n",
        "      queue.append((x - 1, y))\n",
        "      path[x - 1][y] = (x, y)\n",
        "    if y < n - 1 and maze[x][y + 1] == 1 and vis[x][y + 1] == 0:\n",
        "      queue.append((x, y + 1))\n",
        "      path[x][y + 1] = (x, y)\n",
        "    if x < n - 1 and maze[x + 1][y] == 1 and vis[x + 1][y] == 0:\n",
        "      queue.append((x + 1, y))\n",
        "      path[x + 1][y] = (x, y)\n",
        "    if y > 0 and maze[x][y - 1] == 1 and vis[x][y - 1] == 0:\n",
        "      queue.append((x, y - 1))\n",
        "      path[x][y - 1] = (x, y)\n",
        "    x, y = queue.pop(0)\n",
        "\n",
        "  # rekonstruksi path\n",
        "  path_matrix = [[0 for _ in range(n)] for _ in range(n)]\n",
        "  x, y = n - 1, n - 1\n",
        "  while x != 0 or y != 0:\n",
        "    path_matrix[x][y] = 1\n",
        "    x, y = path[x][y]\n",
        "  path_matrix[0][0] = 1\n",
        "\n",
        "  return path_matrix"
      ],
      "metadata": {
        "id": "cFyh7QkQZ8V1"
      },
      "execution_count": 2,
      "outputs": []
    },
    {
      "cell_type": "markdown",
      "source": [
        "#Test Running"
      ],
      "metadata": {
        "id": "9HzmFnv6cPiC"
      }
    },
    {
      "cell_type": "code",
      "source": [
        "def show_solution(mat):\n",
        "  if mat:\n",
        "    for row in mat:\n",
        "      for x in row:\n",
        "        if x == 1:\n",
        "          print('.', end=\" \")\n",
        "        elif x == 0:\n",
        "          print('#', end=\" \")\n",
        "      print()\n",
        "  else:\n",
        "    print(\"Tidak ada solusi\")\n",
        "\n",
        "def test(maze, n):\n",
        "  print(\"Bactracking:\")\n",
        "  show_solution(solve_maze_bt(maze, n))\n",
        "  %timeit solve_maze_bt(maze, n)\n",
        "  print()\n",
        "\n",
        "  print(\"Branch and Bound:\")\n",
        "  show_solution(solve_maze_bnb(maze, n))\n",
        "  %timeit solve_maze_bnb(maze, n)\n",
        "  print()"
      ],
      "metadata": {
        "id": "vNv6RMjfcTxN"
      },
      "execution_count": 3,
      "outputs": []
    },
    {
      "cell_type": "code",
      "source": [
        "# kasus 1\n",
        "n = 4\n",
        "maze = [\n",
        "  [1, 1, 1, 1],\n",
        "  [1, 0, 0, 0],\n",
        "  [1, 1, 1, 1],\n",
        "  [1, 1, 0, 1],\n",
        "]\n",
        "\n",
        "test(maze, n)"
      ],
      "metadata": {
        "colab": {
          "base_uri": "https://localhost:8080/"
        },
        "id": "GJd8-6QFTlgE",
        "outputId": "25adc082-7cf8-4c0c-95a2-95844b5eb671"
      },
      "execution_count": 4,
      "outputs": [
        {
          "output_type": "stream",
          "name": "stdout",
          "text": [
            "Bactracking:\n",
            ". # # # \n",
            ". # # # \n",
            ". . . . \n",
            ". . # . \n",
            "56.7 µs ± 14.5 µs per loop (mean ± std. dev. of 7 runs, 10000 loops each)\n",
            "\n",
            "Branch and Bound:\n",
            ". # # # \n",
            ". # # # \n",
            ". . . . \n",
            "# # # . \n",
            "38.5 µs ± 6.67 µs per loop (mean ± std. dev. of 7 runs, 10000 loops each)\n",
            "\n"
          ]
        }
      ]
    },
    {
      "cell_type": "code",
      "source": [
        "# kasus 2\n",
        "n = 5\n",
        "maze = [\n",
        "  [1, 0, 1, 0, 1],\n",
        "  [1, 1, 1, 1, 0],\n",
        "  [1, 1, 0, 1, 0],\n",
        "  [0, 1, 1, 1, 1],\n",
        "  [1, 1, 0, 1, 1],\n",
        "]\n",
        "\n",
        "test(maze, n)"
      ],
      "metadata": {
        "colab": {
          "base_uri": "https://localhost:8080/"
        },
        "id": "ZYwruS69Tpgl",
        "outputId": "c2c8e626-5493-41c4-a40c-0eb823437b22"
      },
      "execution_count": 5,
      "outputs": [
        {
          "output_type": "stream",
          "name": "stdout",
          "text": [
            "Bactracking:\n",
            ". # # # # \n",
            ". . . . # \n",
            ". . # . # \n",
            "# # # . # \n",
            "# # # . . \n",
            "43.2 µs ± 4.38 µs per loop (mean ± std. dev. of 7 runs, 10000 loops each)\n",
            "\n",
            "Branch and Bound:\n",
            ". # # # # \n",
            ". # # # # \n",
            ". . # # # \n",
            "# . . . # \n",
            "# # # . . \n",
            "60.6 µs ± 1.85 µs per loop (mean ± std. dev. of 7 runs, 10000 loops each)\n",
            "\n"
          ]
        }
      ]
    },
    {
      "cell_type": "code",
      "source": [
        "# kasus 3\n",
        "n = 6\n",
        "maze = [\n",
        "  [1, 1, 0, 1, 0, 1],\n",
        "  [1, 0, 1, 1, 1, 1],\n",
        "  [1, 1, 0, 1, 1, 1],\n",
        "  [1, 1, 1, 1, 0, 1],\n",
        "  [0, 1, 1, 0, 1, 1],\n",
        "  [1, 1, 0, 1, 1, 1],\n",
        "]\n",
        "\n",
        "test(maze, n)"
      ],
      "metadata": {
        "colab": {
          "base_uri": "https://localhost:8080/"
        },
        "id": "SJjKm35FTr_K",
        "outputId": "12c2279e-4605-4022-f4ae-69c14981eeb6"
      },
      "execution_count": 6,
      "outputs": [
        {
          "output_type": "stream",
          "name": "stdout",
          "text": [
            "Bactracking:\n",
            ". # # # # # \n",
            ". # # . . # \n",
            ". # # . . . \n",
            ". . . . # . \n",
            "# . . # # . \n",
            "# # # # # . \n",
            "46.2 µs ± 2.31 µs per loop (mean ± std. dev. of 7 runs, 10000 loops each)\n",
            "\n",
            "Branch and Bound:\n",
            ". # # # # # \n",
            ". # # # # # \n",
            ". # # . . . \n",
            ". . . . # . \n",
            "# # # # # . \n",
            "# # # # # . \n",
            "103 µs ± 29 µs per loop (mean ± std. dev. of 7 runs, 10000 loops each)\n",
            "\n"
          ]
        }
      ]
    },
    {
      "cell_type": "code",
      "source": [
        "# kasus 4\n",
        "n = 7\n",
        "maze = [\n",
        "  [1, 1, 1, 0, 1, 1, 1],\n",
        "  [1, 1, 0, 1, 1, 1, 0],\n",
        "  [1, 0, 1, 1, 1, 1, 0],\n",
        "  [1, 1, 0, 1, 1, 0, 0],\n",
        "  [1, 1, 1, 1, 0, 1, 1],\n",
        "  [1, 1, 0, 1, 1, 1, 1],\n",
        "  [1, 0, 1, 1, 1, 1, 1],\n",
        "]\n",
        "\n",
        "test(maze, n)"
      ],
      "metadata": {
        "colab": {
          "base_uri": "https://localhost:8080/"
        },
        "id": "YabrHD7eTu9B",
        "outputId": "2487a466-5c3d-4e96-b26d-d171876dcc99"
      },
      "execution_count": 7,
      "outputs": [
        {
          "output_type": "stream",
          "name": "stdout",
          "text": [
            "Bactracking:\n",
            ". # # # # # # \n",
            ". # # # # # # \n",
            ". # # # # # # \n",
            ". # # # # # # \n",
            ". . . . # . . \n",
            ". . # . . . . \n",
            "# # # . . # . \n",
            "476 µs ± 20.5 µs per loop (mean ± std. dev. of 7 runs, 1000 loops each)\n",
            "\n",
            "Branch and Bound:\n",
            ". # # # # # # \n",
            ". # # # # # # \n",
            ". # # # # # # \n",
            ". # # # # # # \n",
            ". . . . # # # \n",
            "# # # . # # # \n",
            "# # # . . . . \n",
            "198 µs ± 10.8 µs per loop (mean ± std. dev. of 7 runs, 1000 loops each)\n",
            "\n"
          ]
        }
      ]
    },
    {
      "cell_type": "code",
      "source": [
        "# kasus 5\n",
        "maze = [\n",
        "  [1, 1, 1, 1, 1, 1, 1, 1],\n",
        "  [0, 0, 0, 0, 1, 0, 1, 1],\n",
        "  [1, 1, 1, 1, 1, 1, 1, 1],\n",
        "  [1, 1, 1, 1, 1, 1, 1, 1],\n",
        "  [1, 0, 0, 1, 0, 1, 0, 0],\n",
        "  [1, 1, 0, 1, 1, 1, 1, 1],\n",
        "  [0, 1, 0, 1, 1, 1, 0, 1],\n",
        "  [1, 1, 1, 1, 0, 1, 1, 1],\n",
        "]\n",
        "n = 8\n",
        "\n",
        "test(maze, n)"
      ],
      "metadata": {
        "colab": {
          "base_uri": "https://localhost:8080/"
        },
        "id": "e06lCL4vTxM_",
        "outputId": "b07c8371-1f14-4090-da1c-c2c90b7a8a07"
      },
      "execution_count": 8,
      "outputs": [
        {
          "output_type": "stream",
          "name": "stdout",
          "text": [
            "Bactracking:\n",
            ". . . . . # # # \n",
            "# # # # . # # # \n",
            ". . . . . # # # \n",
            ". . . . . # # # \n",
            ". # # # # # # # \n",
            ". . # . . . . . \n",
            "# . # . . . # . \n",
            "# . . . # # # . \n",
            "559 µs ± 17 µs per loop (mean ± std. dev. of 7 runs, 1000 loops each)\n",
            "\n",
            "Branch and Bound:\n",
            ". . . . . # # # \n",
            "# # # # . # # # \n",
            "# # # # . # # # \n",
            "# # # # . . # # \n",
            "# # # # # . # # \n",
            "# # # # # . # # \n",
            "# # # # # . # # \n",
            "# # # # # . . . \n",
            "262 µs ± 23.3 µs per loop (mean ± std. dev. of 7 runs, 1000 loops each)\n",
            "\n"
          ]
        }
      ]
    }
  ]
}